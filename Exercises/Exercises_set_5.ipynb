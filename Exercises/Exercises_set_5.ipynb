{
 "cells": [
  {
   "cell_type": "markdown",
   "id": "5f3e8109",
   "metadata": {},
   "source": [
    "# Exercises Set 5"
   ]
  },
  {
   "cell_type": "code",
   "execution_count": 1,
   "id": "ed383d3c",
   "metadata": {},
   "outputs": [
    {
     "name": "stdout",
     "output_type": "stream",
     "text": [
      "Qiskit version: 2.2.1\n"
     ]
    }
   ],
   "source": [
    "import numpy as np\n",
    "import qiskit\n",
    "from qiskit import QuantumCircuit, transpile\n",
    "from qiskit_aer import AerSimulator\n",
    "from qiskit.visualization import array_to_latex\n",
    "print(f'Qiskit version: {qiskit.__version__}')"
   ]
  },
  {
   "cell_type": "markdown",
   "id": "7901d4e1",
   "metadata": {},
   "source": [
    "Exercises from [<a href=\"#ref1\">Asfaw19</a>] 1.4 Single Qubit Gates:"
   ]
  },
  {
   "cell_type": "markdown",
   "id": "6324f2b5",
   "metadata": {},
   "source": [
    "## First Set\n",
    "\n",
    "Exercises 2.2 Multiple Qubits and Entangled States"
   ]
  },
  {
   "cell_type": "markdown",
   "id": "3a84c402",
   "metadata": {},
   "source": [
    "### 1.2 Quick Exercises"
   ]
  },
  {
   "cell_type": "markdown",
   "id": "7f7d42ec",
   "metadata": {},
   "source": [
    "#### Exercise 1\n",
    "\n",
    "Write down the kronecker product of the qubits:\n",
    "\n",
    "a) $\\ket{0} \\ket{1}$\n",
    "\n",
    "b) $\\ket{0} \\ket{+}$\n",
    "\n",
    "c) $\\ket{+} \\ket{1}$\n",
    "\n",
    "d) $\\ket{-} \\ket{+}$"
   ]
  },
  {
   "cell_type": "markdown",
   "id": "6f35f0dc",
   "metadata": {},
   "source": [
    "We will solve this with the analytical process, following to a verification using qiskit"
   ]
  },
  {
   "cell_type": "markdown",
   "id": "81f5a01c",
   "metadata": {},
   "source": [
    "##### $\\ket{0} \\ket{1}$"
   ]
  },
  {
   "cell_type": "markdown",
   "id": "c3bbbc99",
   "metadata": {},
   "source": [
    "$$\n",
    "\\ket{0} \\ket{1} = \\ket{01} = \n",
    "\\left[\n",
    "    \\begin{matrix}\n",
    "        1 \\left[\n",
    "        \\begin{matrix}\n",
    "            0 \\\\\n",
    "            1\n",
    "        \\end{matrix} \\right]\\\\ \\\\\n",
    "        0 \\left[\n",
    "        \\begin{matrix}\n",
    "            0 \\\\\n",
    "            1\n",
    "        \\end{matrix} \\right]\n",
    "    \\end{matrix}\n",
    "\\right] = \n",
    "\\left[\n",
    "    \\begin{matrix}\n",
    "        0 \\\\ 1 \\\\ 0 \\\\ 0\n",
    "    \\end{matrix}\n",
    "\\right]\n",
    "$$"
   ]
  },
  {
   "cell_type": "code",
   "execution_count": 2,
   "id": "cdbcab31",
   "metadata": {},
   "outputs": [
    {
     "data": {
      "text/latex": [
       "$$\n",
       "\\text{Statevector} = \n",
       "\\begin{bmatrix}\n",
       "0 & 0 & 1 & 0  \\\\\n",
       " \\end{bmatrix}\n",
       "$$"
      ],
      "text/plain": [
       "<IPython.core.display.Latex object>"
      ]
     },
     "execution_count": 2,
     "metadata": {},
     "output_type": "execute_result"
    }
   ],
   "source": [
    "qc = QuantumCircuit(2)\n",
    "qc.x(1)\n",
    "sim = AerSimulator()\n",
    "qc.save_statevector()\n",
    "compiled_qc = transpile(qc, sim)\n",
    "result = sim.run(compiled_qc).result()\n",
    "state = result.get_statevector()\n",
    "array_to_latex(state, prefix=\"\\\\text{Statevector} = \")"
   ]
  },
  {
   "cell_type": "markdown",
   "id": "ae315e52",
   "metadata": {},
   "source": [
    "##### $\\ket{0} \\ket{+}$"
   ]
  },
  {
   "cell_type": "markdown",
   "id": "eb53f7e7",
   "metadata": {},
   "source": [
    "$$\n",
    "\\ket{0} \\ket{+} = \\ket{0+} = \\ket{0} \\left(\\dfrac{\\ket{0}+\\ket{1}}{\\sqrt{2}}\\right) = \\frac{1}{\\sqrt{2}} (\\ket{00}+\\ket{01}) = \\frac{1}{\\sqrt{2}} \\left(\n",
    "\\left[\n",
    "    \\begin{matrix}\n",
    "        1 \\\\ 0 \\\\ 0 \\\\ 0\n",
    "    \\end{matrix}\n",
    "\\right] +\n",
    "\\left[\n",
    "    \\begin{matrix}\n",
    "        0 \\\\ 1 \\\\ 0 \\\\ 0\n",
    "    \\end{matrix}\n",
    "\\right] \\right) = \n",
    "\\left[\n",
    "    \\begin{matrix}\n",
    "        \\frac{1}{\\sqrt{2}} \\\\ \\frac{1}{\\sqrt{2}} \\\\ 0 \\\\ 0\n",
    "    \\end{matrix}\n",
    "\\right]\n",
    "$$"
   ]
  },
  {
   "cell_type": "code",
   "execution_count": 3,
   "id": "b47f5b15",
   "metadata": {},
   "outputs": [
    {
     "data": {
      "text/latex": [
       "$$\n",
       "\\text{Statevector} = \n",
       "\\begin{bmatrix}\n",
       "\\frac{\\sqrt{2}}{2} & \\frac{\\sqrt{2}}{2} & 0 & 0  \\\\\n",
       " \\end{bmatrix}\n",
       "$$"
      ],
      "text/plain": [
       "<IPython.core.display.Latex object>"
      ]
     },
     "execution_count": 3,
     "metadata": {},
     "output_type": "execute_result"
    }
   ],
   "source": [
    "qc = QuantumCircuit(2)\n",
    "qc.h(0)\n",
    "sim = AerSimulator()\n",
    "qc.save_statevector()\n",
    "compiled_qc = transpile(qc, sim)\n",
    "result = sim.run(compiled_qc).result()\n",
    "state = result.get_statevector()\n",
    "array_to_latex(state, prefix=\"\\\\text{Statevector} = \")"
   ]
  },
  {
   "cell_type": "markdown",
   "id": "7baa020f",
   "metadata": {},
   "source": [
    "##### $\\ket{+} \\ket{1}$"
   ]
  },
  {
   "cell_type": "markdown",
   "id": "460f951b",
   "metadata": {},
   "source": [
    "$$\n",
    "\\ket{+} \\ket{1} = \\ket{+1} =  \\left(\\dfrac{\\ket{0}+\\ket{1}}{\\sqrt{2}}\\right) \\ket{1}= \\frac{1}{\\sqrt{2}} (\\ket{01}+\\ket{11}) = \\frac{1}{\\sqrt{2}} \\left(\n",
    "\\left[\n",
    "    \\begin{matrix}\n",
    "        0 \\\\ 1 \\\\ 0 \\\\ 0\n",
    "    \\end{matrix}\n",
    "\\right] +\n",
    "\\left[\n",
    "    \\begin{matrix}\n",
    "        0 \\\\ 0 \\\\ 0 \\\\ 1\n",
    "    \\end{matrix}\n",
    "\\right] \\right) = \n",
    "\\left[\n",
    "    \\begin{matrix}\n",
    "        0 \\\\ \\frac{1}{\\sqrt{2}} \\\\ 0 \\\\ \\frac{1}{\\sqrt{2}}\n",
    "    \\end{matrix}\n",
    "\\right]\n",
    "$$"
   ]
  },
  {
   "cell_type": "code",
   "execution_count": 4,
   "id": "dbb6e322",
   "metadata": {},
   "outputs": [
    {
     "data": {
      "text/latex": [
       "$$\n",
       "\\text{Statevector} = \n",
       "\\begin{bmatrix}\n",
       "0 & \\frac{\\sqrt{2}}{2} & 0 & \\frac{\\sqrt{2}}{2}  \\\\\n",
       " \\end{bmatrix}\n",
       "$$"
      ],
      "text/plain": [
       "<IPython.core.display.Latex object>"
      ]
     },
     "execution_count": 4,
     "metadata": {},
     "output_type": "execute_result"
    }
   ],
   "source": [
    "qc = QuantumCircuit(2)\n",
    "qc.x(0)\n",
    "qc.h(1)\n",
    "sim = AerSimulator()\n",
    "qc.save_statevector()\n",
    "compiled_qc = transpile(qc, sim)\n",
    "result = sim.run(compiled_qc).result()\n",
    "state = result.get_statevector()\n",
    "array_to_latex(state, prefix=\"\\\\text{Statevector} = \")"
   ]
  },
  {
   "cell_type": "markdown",
   "id": "1d5da55d",
   "metadata": {},
   "source": [
    "##### $\\ket{-} \\ket{+}$"
   ]
  },
  {
   "cell_type": "markdown",
   "id": "0b3a1d0f",
   "metadata": {},
   "source": [
    "$$\n",
    "\\ket{-} \\ket{+} = \\ket{-+} =  \\left(\\dfrac{\\ket{0}-\\ket{1}}{\\sqrt{2}}\\right) \\left(\\dfrac{\\ket{0}+\\ket{1}}{\\sqrt{2}}\\right)= \\frac{1}{2} (\\ket{00}-\\ket{10}+\\ket{01}-\\ket{11}) = \\frac{1}{2} \\left(\n",
    "\\left[\n",
    "    \\begin{matrix}\n",
    "        1 \\\\ 0 \\\\ 0 \\\\ 0\n",
    "    \\end{matrix}\n",
    "\\right] +\n",
    "\\left[\n",
    "    \\begin{matrix}\n",
    "        0 \\\\ 1 \\\\ 0 \\\\ 0\n",
    "    \\end{matrix}\n",
    "\\right] - \\left[\n",
    "    \\begin{matrix}\n",
    "        0 \\\\ 0 \\\\ 1 \\\\ 0\n",
    "    \\end{matrix}\n",
    "\\right] -\n",
    "\\left[\n",
    "    \\begin{matrix}\n",
    "        0 \\\\ 0 \\\\ 0 \\\\ 1\n",
    "    \\end{matrix}\n",
    "\\right]\\right) = \n",
    "\\left[\n",
    "    \\begin{matrix}\n",
    "        \\frac{1}{2} \\\\ \\frac{1}{2} \\\\ -\\frac{1}{2} \\\\ -\\frac{1}{2}\n",
    "    \\end{matrix}\n",
    "\\right]\n",
    "$$"
   ]
  },
  {
   "cell_type": "code",
   "execution_count": 5,
   "id": "1fa209f7",
   "metadata": {},
   "outputs": [
    {
     "data": {
      "text/latex": [
       "$$\n",
       "\\text{Statevector} = \n",
       "\\begin{bmatrix}\n",
       "\\frac{1}{2} & \\frac{1}{2} & - \\frac{1}{2} & - \\frac{1}{2}  \\\\\n",
       " \\end{bmatrix}\n",
       "$$"
      ],
      "text/plain": [
       "<IPython.core.display.Latex object>"
      ]
     },
     "execution_count": 5,
     "metadata": {},
     "output_type": "execute_result"
    }
   ],
   "source": [
    "qc = QuantumCircuit(2)\n",
    "qc.h(0)\n",
    "qc.x(1)\n",
    "qc.h(1)\n",
    "sim = AerSimulator()\n",
    "qc.save_statevector()\n",
    "compiled_qc = transpile(qc, sim)\n",
    "result = sim.run(compiled_qc).result()\n",
    "state = result.get_statevector()\n",
    "array_to_latex(state, prefix=\"\\\\text{Statevector} = \")"
   ]
  },
  {
   "cell_type": "markdown",
   "id": "ed7828f1",
   "metadata": {},
   "source": [
    "#### Exercise 2\n",
    "\n",
    "Write the state $\\ket{\\psi} = \\frac{1}{\\sqrt{2}} \\ket{00} + \\frac{i}{\\sqrt{2}} \\ket{01}$ as two separate qubits."
   ]
  },
  {
   "cell_type": "markdown",
   "id": "c9680198",
   "metadata": {},
   "source": [
    "In order to solve this problem, we will supose that we have two qubits $\\ket{a}$ and $\\ket{b}$ so that:\n",
    "\n",
    "$$\\ket{\\psi} = \\ket{ab} = \\left(a_0 \\ket{0} + a_1 \\ket{1} \\right)  \\left(b_0 \\ket{0} + b_1 \\ket{1} \\right) = a_0b_0 \\ket{00} +  a_0b_1 \\ket{01} + a_1b_0 \\ket{10} +  a_1b_1 \\ket{11}$$\n",
    "\n",
    "Then leading to the system:\n",
    "\n",
    "$$\n",
    "\\begin{aligned}\n",
    "    a_0 b_0 & =& \\frac{1}{\\sqrt{2}} & \\quad &a_0 b_1 & =& \\frac{i}{\\sqrt{2}} \\\\\n",
    "    a_1 b_0 & =& 0 & \\quad &a_1 b_1 & =& 0 \\\\\n",
    "    |a_0|^2 + |a_1|^2 & =& 1 & \\quad &|b_0|^2 + |b_1|^2 & =& 1 \\\\\n",
    "\\end{aligned}\n",
    "$$\n",
    "\n",
    "Leading to the solution:\n",
    "\n",
    "$$ a_0 = 1 \\quad a_1 = 0 \\quad b_0 = \\dfrac{1}{\\sqrt{2}} \\quad b_1 =  \\dfrac{i}{\\sqrt{2}}$$\n",
    "\n",
    "Which means that:\n",
    "\n",
    "$$\\therefore \\ket{\\psi} = \\ket{0}  \\left(\\frac{1}{\\sqrt{2}} \\ket{0} + \\frac{i}{\\sqrt{2}} \\ket{1} \\right)$$"
   ]
  },
  {
   "cell_type": "code",
   "execution_count": 6,
   "id": "a4e97618",
   "metadata": {},
   "outputs": [
    {
     "data": {
      "text/latex": [
       "$$\n",
       "\\text{Statevector} = \n",
       "\\begin{bmatrix}\n",
       "\\frac{\\sqrt{2}}{2} & \\frac{\\sqrt{2} i}{2} & 0 & 0  \\\\\n",
       " \\end{bmatrix}\n",
       "$$"
      ],
      "text/plain": [
       "<IPython.core.display.Latex object>"
      ]
     },
     "execution_count": 6,
     "metadata": {},
     "output_type": "execute_result"
    }
   ],
   "source": [
    "qc = QuantumCircuit(2)\n",
    "qc.h(0)\n",
    "qc.s(0)\n",
    "sim = AerSimulator()\n",
    "qc.save_statevector()\n",
    "compiled_qc = transpile(qc, sim)\n",
    "result = sim.run(compiled_qc).result()\n",
    "state = result.get_statevector()\n",
    "array_to_latex(state, prefix=\"\\\\text{Statevector} = \")"
   ]
  },
  {
   "cell_type": "markdown",
   "id": "db5da0f5",
   "metadata": {},
   "source": [
    "### 2.1 Quick Exercises"
   ]
  },
  {
   "cell_type": "markdown",
   "id": "b76fcb6b",
   "metadata": {},
   "source": [
    "#### Exercise 1\n",
    "\n",
    "Calculate the single qubit unitary ($U$) created by the sequence of gates: $XZH$. Use Qiskit's Aer simulator to check your results."
   ]
  },
  {
   "cell_type": "markdown",
   "id": "1704ff77",
   "metadata": {},
   "source": [
    "In order to solve this problem, we will do the matrix operations over these $2 \\times 2$ matrices, where:\n",
    "\n",
    "$$X = \n",
    "\\begin{pmatrix}\n",
    "    0 & 1 \\\\\n",
    "    1 & 0\n",
    "\\end{pmatrix}\n",
    "\\quad Z = \n",
    "\\begin{pmatrix}\n",
    "    1 & 0 \\\\\n",
    "    0 & -1\n",
    "\\end{pmatrix}\n",
    "\\quad H = \\dfrac{1}{\\sqrt{2}}\n",
    "\\begin{pmatrix}\n",
    "    1 & 1 \\\\\n",
    "    1 & -1\n",
    "\\end{pmatrix}$$\n",
    "\n",
    "Now we apply the operation:\n",
    "\n",
    "$$\n",
    "XZH = \n",
    "\\begin{pmatrix}\n",
    "    0 & 1 \\\\\n",
    "    1 & 0\n",
    "\\end{pmatrix}\n",
    "\\begin{pmatrix}\n",
    "    1 & 0 \\\\\n",
    "    0 & -1\n",
    "\\end{pmatrix}\n",
    "\\dfrac{1}{\\sqrt{2}}\n",
    "\\begin{pmatrix}\n",
    "    1 & 1 \\\\\n",
    "    1 & -1\n",
    "\\end{pmatrix} = \\dfrac{1}{\\sqrt{2}}\n",
    "\\begin{pmatrix}\n",
    "    0 & -1 \\\\\n",
    "    1 & 0\n",
    "\\end{pmatrix}\n",
    "\\begin{pmatrix}\n",
    "    1 & 1 \\\\\n",
    "    1 & -1\n",
    "\\end{pmatrix} = \\dfrac{1}{\\sqrt{2}}\n",
    "\\begin{pmatrix}\n",
    "    -1 & 1 \\\\\n",
    "    1 & 1\n",
    "\\end{pmatrix}\n",
    "$$"
   ]
  },
  {
   "cell_type": "code",
   "execution_count": 7,
   "id": "26a620fc",
   "metadata": {},
   "outputs": [
    {
     "data": {
      "text/latex": [
       "$$\n",
       "XZH = \n",
       "\\begin{bmatrix}\n",
       "- \\frac{\\sqrt{2}}{2} & \\frac{\\sqrt{2}}{2}  \\\\\n",
       " \\frac{\\sqrt{2}}{2} & \\frac{\\sqrt{2}}{2}  \\\\\n",
       " \\end{bmatrix}\n",
       "$$"
      ],
      "text/plain": [
       "<IPython.core.display.Latex object>"
      ]
     },
     "execution_count": 7,
     "metadata": {},
     "output_type": "execute_result"
    }
   ],
   "source": [
    "qc = QuantumCircuit(1)\n",
    "qc.x(0)\n",
    "qc.z(0)\n",
    "qc.h(0)\n",
    "qc.save_unitary()\n",
    "sim = AerSimulator()\n",
    "compiled_qc = transpile(qc, sim)\n",
    "result = sim.run(compiled_qc).result()\n",
    "unitary = result.get_unitary()\n",
    "array_to_latex(unitary, prefix=\"XZH = \")"
   ]
  },
  {
   "cell_type": "markdown",
   "id": "3781c123",
   "metadata": {},
   "source": [
    "#### Exercise 2"
   ]
  },
  {
   "cell_type": "markdown",
   "id": "76ff35cb",
   "metadata": {},
   "source": [
    "Try changing the gates in the circuit above. Calculate their kronecker product, and then check your answer using the Aer simulator."
   ]
  },
  {
   "cell_type": "markdown",
   "id": "d6d30dd7",
   "metadata": {},
   "source": [
    "TODO"
   ]
  },
  {
   "cell_type": "markdown",
   "id": "e4283e42",
   "metadata": {},
   "source": [
    "### 3.4 Exercise"
   ]
  },
  {
   "cell_type": "markdown",
   "id": "fff1c125",
   "metadata": {},
   "source": [
    "#### Exercise 1\n",
    "\n",
    "Create a quantum circuit that produces the Bell state: $\\frac{1}{\\sqrt{2}}(\\ket{01} + \\ket{10})$. Use the statevector simulator to verify your result."
   ]
  },
  {
   "cell_type": "markdown",
   "id": "bc9b1993",
   "metadata": {},
   "source": [
    "We will first define the two qubits that lead to this state\n",
    "\n",
    "$$\\ket{\\psi} = \\ket{ab} = \\left(a_0 \\ket{0} + a_1 \\ket{1} \\right)  \\left(b_0 \\ket{0} + b_1 \\ket{1} \\right) = a_0b_0 \\ket{00} +  a_0b_1 \\ket{01} + a_1b_0 \\ket{10} +  a_1b_1 \\ket{11}$$\n",
    "\n",
    "Then leading to the system:\n",
    "\n",
    "$$\n",
    "\\begin{aligned}\n",
    "    a_0 b_0 & =& 0 & \\quad &a_0 b_1 & =& \\frac{1}{\\sqrt{2}} \\\\\n",
    "    a_1 b_0 & =& \\frac{1}{\\sqrt{2}} & \\quad &a_1 b_1 & =& 0 \\\\\n",
    "    |a_0|^2 + |a_1|^2 & =& 1 & \\quad &|b_0|^2 + |b_1|^2 & =& 1 \\\\\n",
    "\\end{aligned}\n",
    "$$\n",
    "\n",
    "As we can see, this is an entangled system, then, we may use a controlled-gate that let us retreive this state. Also, we can see that in the expected behaviour, any of the two qubits can be used as control or as target.\n",
    "\n",
    "Here we can see that given an state for qubit $q_0$, the other qubit $q_1$ must be on the opposite state. This leads to the following hypthesis:\n",
    "\n",
    "1. In order to make the system entangled, control qubit result  must bein a equiprobable state. (For example using $H$-gate)\n",
    "2. In order to make the target qubit be the opposite, we will apply the $X$-gate to it.\n",
    "\n"
   ]
  },
  {
   "cell_type": "code",
   "execution_count": 8,
   "id": "71877e71",
   "metadata": {},
   "outputs": [
    {
     "data": {
      "image/png": "[encoded data removed]",
      "text/plain": [
       "<Figure size 287.294x200.667 with 1 Axes>"
      ]
     },
     "execution_count": 8,
     "metadata": {},
     "output_type": "execute_result"
    }
   ],
   "source": [
    "qc = QuantumCircuit(2)\n",
    "qc.h(1)\n",
    "qc.x(0)\n",
    "qc.cx(1,0)\n",
    "qc.draw('mpl')"
   ]
  },
  {
   "cell_type": "code",
   "execution_count": 9,
   "id": "bff067fe",
   "metadata": {},
   "outputs": [
    {
     "data": {
      "text/latex": [
       "$$\n",
       "\\text{Statevector} = \n",
       "\\begin{bmatrix}\n",
       "0 & \\frac{\\sqrt{2}}{2} & \\frac{\\sqrt{2}}{2} & 0  \\\\\n",
       " \\end{bmatrix}\n",
       "$$"
      ],
      "text/plain": [
       "<IPython.core.display.Latex object>"
      ]
     },
     "execution_count": 9,
     "metadata": {},
     "output_type": "execute_result"
    }
   ],
   "source": [
    "sim = AerSimulator()\n",
    "qc.save_statevector()\n",
    "compiled_qc = transpile(qc, sim)\n",
    "result = sim.run(compiled_qc).result()\n",
    "state = result.get_statevector()\n",
    "array_to_latex(state, prefix=\"\\\\text{Statevector} = \")"
   ]
  },
  {
   "cell_type": "markdown",
   "id": "f6b05371",
   "metadata": {},
   "source": [
    "#### Exercise 2"
   ]
  },
  {
   "cell_type": "markdown",
   "id": "5fc1bffe",
   "metadata": {},
   "source": [
    "The circuit you created in question 1 transforms the state $\\ket{00}$ to $\\frac{1}{\\sqrt{2}} (\\ket{01} + \\ket{10})$, calculate the unitary of this circuit using Qiskit's simulator. Verify this unitary does in fact perform the correct transformation."
   ]
  },
  {
   "cell_type": "code",
   "execution_count": 10,
   "id": "19f5b4dc",
   "metadata": {},
   "outputs": [
    {
     "data": {
      "image/png": "[encoded data removed]",
      "text/plain": [
       "<Figure size 287.294x200.667 with 1 Axes>"
      ]
     },
     "execution_count": 10,
     "metadata": {},
     "output_type": "execute_result"
    }
   ],
   "source": [
    "qc = QuantumCircuit(2)\n",
    "qc.h(1)\n",
    "qc.x(0)\n",
    "qc.cx(1,0)\n",
    "qc.draw('mpl')"
   ]
  },
  {
   "cell_type": "code",
   "execution_count": 11,
   "id": "52d448a9",
   "metadata": {},
   "outputs": [
    {
     "data": {
      "text/latex": [
       "$$\n",
       "H \\otimes X = \n",
       "\\begin{bmatrix}\n",
       "0 & \\frac{\\sqrt{2}}{2} & 0 & \\frac{\\sqrt{2}}{2}  \\\\\n",
       " \\frac{\\sqrt{2}}{2} & 0 & \\frac{\\sqrt{2}}{2} & 0  \\\\\n",
       " \\frac{\\sqrt{2}}{2} & 0 & - \\frac{\\sqrt{2}}{2} & 0  \\\\\n",
       " 0 & \\frac{\\sqrt{2}}{2} & 0 & - \\frac{\\sqrt{2}}{2}  \\\\\n",
       " \\end{bmatrix}\n",
       "$$"
      ],
      "text/plain": [
       "<IPython.core.display.Latex object>"
      ]
     },
     "execution_count": 11,
     "metadata": {},
     "output_type": "execute_result"
    }
   ],
   "source": [
    "sim = AerSimulator()\n",
    "qc.save_unitary()\n",
    "compiled_qc = transpile(qc, sim)\n",
    "result = sim.run(compiled_qc).result()\n",
    "u = result.get_unitary()\n",
    "array_to_latex(u, prefix=\"H \\otimes X = \")"
   ]
  },
  {
   "cell_type": "markdown",
   "id": "f1cdf66c",
   "metadata": {},
   "source": [
    "##### 1. Initial state\n",
    "\n",
    "The circuit starts in:\n",
    "\n",
    "$$\n",
    "|\\psi_0\\rangle = |0\\rangle \\otimes |0\\rangle = |00\\rangle =\n",
    "\\begin{bmatrix}1\\\\0\\\\0\\\\0\\end{bmatrix}\n",
    "$$\n",
    "\n",
    "##### 2. Apply Hadamard on qubit 0\n",
    "\n",
    "Hadamard matrix: \n",
    "$$\n",
    "H = \\frac{1}{\\sqrt{2}}\n",
    "\\begin{bmatrix}1 & 1\\\\1 & -1\\end{bmatrix}, \\quad \n",
    "I = \\begin{bmatrix}1 & 0\\\\0 & 1\\end{bmatrix}\n",
    "$$\n",
    "\n",
    "Kronecker product:\n",
    "\n",
    "$$\n",
    "H \\otimes I = \\frac{1}{\\sqrt{2}}\n",
    "\\begin{bmatrix}\n",
    "1 & 0 & 1 & 0\\\\\n",
    "0 & 1 & 0 & 1\\\\\n",
    "1 & 0 & -1 & 0\\\\\n",
    "0 & 1 & 0 & -1\n",
    "\\end{bmatrix}\n",
    "$$\n",
    "\n",
    "Apply to initial state:\n",
    "\n",
    "$$\n",
    "|\\psi_1\\rangle = (H \\otimes I)|00\\rangle = \\frac{|00\\rangle + |10\\rangle}{\\sqrt{2}}\n",
    "$$\n",
    "\n",
    "##### 3. Apply X on qubit 1\n",
    "\n",
    "X gate: \n",
    "$$\n",
    "X = \\begin{bmatrix}0 & 1\\\\1 & 0\\end{bmatrix}\n",
    "$$\n",
    "\n",
    "Kronecker product:\n",
    "\n",
    "$$\n",
    "I \\otimes X =\n",
    "\\begin{bmatrix}\n",
    "0 & 1 & 0 & 0\\\\\n",
    "1 & 0 & 0 & 0\\\\\n",
    "0 & 0 & 0 & 1\\\\\n",
    "0 & 0 & 1 & 0\n",
    "\\end{bmatrix}\n",
    "$$\n",
    "\n",
    "Apply to $|\\psi_1\\rangle$:\n",
    "\n",
    "$$\n",
    "|\\psi_2\\rangle = (I \\otimes X)|\\psi_1\\rangle = \\frac{|01\\rangle + |11\\rangle}{\\sqrt{2}}\n",
    "$$\n",
    "\n",
    "##### 4. Apply CNOT (control = qubit 0, target = qubit 1)\n",
    "\n",
    "CNOT matrix:\n",
    "\n",
    "$$\n",
    "CX = |0\\rangle\\langle 0| \\otimes I + |1\\rangle\\langle 1| \\otimes X =\n",
    "\\begin{bmatrix}\n",
    "1 & 0 & 0 & 0\\\\\n",
    "0 & 1 & 0 & 0\\\\\n",
    "0 & 0 & 0 & 1\\\\\n",
    "0 & 0 & 1 & 0\n",
    "\\end{bmatrix}\n",
    "$$\n",
    "\n",
    "Apply to $|\\psi_2\\rangle$:\n",
    "\n",
    "$$\n",
    "|\\psi_{\\text{final}}\\rangle = CX \\, |\\psi_2\\rangle = \\frac{|01\\rangle + |10\\rangle}{\\sqrt{2}}\n",
    "$$\n",
    "\n",
    "##### 5. Full unitary of the circuit\n",
    "\n",
    "$$\n",
    "U_{\\text{circuit}} = CX \\cdot (I \\otimes X) \\cdot (H \\otimes I) =\n",
    "\\frac{1}{\\sqrt{2}}\n",
    "\\begin{bmatrix}\n",
    "0 & 1 & 0 & 1\\\\\n",
    "1 & 0 & 1 & 0\\\\\n",
    "1 & 0 & -1 & 0\\\\\n",
    "0 & 1 & 0 & -1\n",
    "\\end{bmatrix}\n",
    "$$"
   ]
  },
  {
   "cell_type": "markdown",
   "id": "9ccf1095",
   "metadata": {},
   "source": [
    "#### Exercise 3"
   ]
  },
  {
   "cell_type": "markdown",
   "id": "784e0303",
   "metadata": {},
   "source": [
    "Think about other ways you could represent a statevector visually. Can you design an interesting visualization from which you can read the magnitude and phase of each amplitude?"
   ]
  },
  {
   "cell_type": "markdown",
   "id": "633fa5ca",
   "metadata": {},
   "source": [
    "## Second Set\n",
    "\n",
    " Exercises 2.3 Phase Kickback"
   ]
  },
  {
   "attachments": {
    "image.png": {
     "image/png": "[encoded data removed]"
    }
   },
   "cell_type": "markdown",
   "id": "2298b578",
   "metadata": {},
   "source": [
    "### Exercise 1\n",
    "\n",
    "What would be the resulting state of the control qubit (q0) if the target qubit (q1) was in the state (as shown in the circuit below)? Use Qiskit to check your answer.\n",
    "\n",
    "![image.png](attachment:image.png)"
   ]
  },
  {
   "cell_type": "code",
   "execution_count": 12,
   "id": "ddbd7062",
   "metadata": {},
   "outputs": [
    {
     "data": {
      "image/png": "[encoded data removed]",
      "text/plain": [
       "<Figure size 370.906x200.667 with 1 Axes>"
      ]
     },
     "execution_count": 12,
     "metadata": {},
     "output_type": "execute_result"
    }
   ],
   "source": [
    "qc = QuantumCircuit(2)\n",
    "qc.h(0)\n",
    "qc.cp(np.pi/4, 0, 1)\n",
    "qc.draw('mpl')"
   ]
  },
  {
   "cell_type": "code",
   "execution_count": 13,
   "id": "7300722a",
   "metadata": {},
   "outputs": [
    {
     "data": {
      "text/latex": [
       "$$\n",
       "\\text{Statevector} = \n",
       "\\begin{bmatrix}\n",
       "\\frac{\\sqrt{2}}{2} & \\frac{\\sqrt{2}}{2} & 0 & 0  \\\\\n",
       " \\end{bmatrix}\n",
       "$$"
      ],
      "text/plain": [
       "<IPython.core.display.Latex object>"
      ]
     },
     "execution_count": 13,
     "metadata": {},
     "output_type": "execute_result"
    }
   ],
   "source": [
    "qc.save_statevector()\n",
    "sim = AerSimulator()\n",
    "compiled_qc = transpile(qc, sim)\n",
    "result = sim.run(compiled_qc).result()\n",
    "state = result.get_statevector()\n",
    "array_to_latex(state, prefix=\"\\\\text{Statevector} = \")"
   ]
  },
  {
   "attachments": {
    "image.png": {
     "image/png": "[encoded data removed]"
    }
   },
   "cell_type": "markdown",
   "id": "cac50a4d",
   "metadata": {},
   "source": [
    "### Exercise 2\n",
    "\n",
    "What would happen to the control qubit (q0) if the target qubit (q1) was in the state, and the circuit used a controlled-Sdg gate instead of the controlled-T (as shown in the circuit below)?\n",
    "\n",
    "![image.png](attachment:image.png)"
   ]
  },
  {
   "cell_type": "code",
   "execution_count": 14,
   "id": "428f1896",
   "metadata": {},
   "outputs": [
    {
     "data": {
      "image/png": "[encoded data removed]",
      "text/plain": [
       "<Figure size 287.294x200.667 with 1 Axes>"
      ]
     },
     "execution_count": 14,
     "metadata": {},
     "output_type": "execute_result"
    }
   ],
   "source": [
    "qc = QuantumCircuit(2)\n",
    "qc.h(0)\n",
    "qc.x(1)\n",
    "qc.csdg(0, 1)\n",
    "qc.draw('mpl')"
   ]
  },
  {
   "cell_type": "code",
   "execution_count": 15,
   "id": "460247f2",
   "metadata": {},
   "outputs": [
    {
     "data": {
      "text/latex": [
       "$$\n",
       "\\text{Statevector} = \n",
       "\\begin{bmatrix}\n",
       "0 & 0 & \\frac{\\sqrt{2}}{2} & - \\frac{\\sqrt{2} i}{2}  \\\\\n",
       " \\end{bmatrix}\n",
       "$$"
      ],
      "text/plain": [
       "<IPython.core.display.Latex object>"
      ]
     },
     "execution_count": 15,
     "metadata": {},
     "output_type": "execute_result"
    }
   ],
   "source": [
    "qc.save_statevector()\n",
    "sim = AerSimulator()\n",
    "compiled_qc = transpile(qc, sim)\n",
    "result = sim.run(compiled_qc).result()\n",
    "state = result.get_statevector()\n",
    "array_to_latex(state, prefix=\"\\\\text{Statevector} = \")"
   ]
  },
  {
   "attachments": {
    "image.png": {
     "image/png": "[encoded data removed]"
    }
   },
   "cell_type": "markdown",
   "id": "327302c9",
   "metadata": {},
   "source": [
    "### Exercise 3\n",
    "\n",
    "What would happen to the control qubit (q0) if it was in the state $\\ket{1}$ instead of the state $\\ket{+}$ before application of the controlled-T (as shown in the circuit below)?\n",
    "\n",
    "![image.png](attachment:image.png)"
   ]
  },
  {
   "cell_type": "code",
   "execution_count": 16,
   "id": "a4d08cbc",
   "metadata": {},
   "outputs": [
    {
     "data": {
      "image/png": "[encoded data removed]",
      "text/plain": [
       "<Figure size 370.906x200.667 with 1 Axes>"
      ]
     },
     "execution_count": 16,
     "metadata": {},
     "output_type": "execute_result"
    }
   ],
   "source": [
    "qc = QuantumCircuit(2)\n",
    "qc.x(0)\n",
    "qc.x(1)\n",
    "qc.cp(np.pi/4, 0, 1)\n",
    "qc.draw('mpl')"
   ]
  },
  {
   "cell_type": "code",
   "execution_count": 17,
   "id": "1ed70feb",
   "metadata": {},
   "outputs": [
    {
     "data": {
      "text/latex": [
       "$$\n",
       "\\text{Statevector} = \n",
       "\\begin{bmatrix}\n",
       "0 & 0 & 0 & \\frac{\\sqrt{2}}{2} + \\frac{\\sqrt{2} i}{2}  \\\\\n",
       " \\end{bmatrix}\n",
       "$$"
      ],
      "text/plain": [
       "<IPython.core.display.Latex object>"
      ]
     },
     "execution_count": 17,
     "metadata": {},
     "output_type": "execute_result"
    }
   ],
   "source": [
    "qc.save_statevector()\n",
    "sim = AerSimulator()\n",
    "compiled_qc = transpile(qc, sim)\n",
    "result = sim.run(compiled_qc).result()\n",
    "state = result.get_statevector()\n",
    "array_to_latex(state, prefix=\"\\\\text{Statevector} = \")"
   ]
  },
  {
   "cell_type": "markdown",
   "id": "e8825225",
   "metadata": {},
   "source": [
    "## References\n",
    "[Asfaw19] <a id=\"ref1\"></a>  Abraham Asfaw et al., Learn Quantum Computation Using Qiskit. Qiskit Development Team. 2019"
   ]
  }
 ],
 "metadata": {
  "kernelspec": {
   "display_name": "venv",
   "language": "python",
   "name": "python3"
  },
  "language_info": {
   "codemirror_mode": {
    "name": "ipython",
    "version": 3
   },
   "file_extension": ".py",
   "mimetype": "text/x-python",
   "name": "python",
   "nbconvert_exporter": "python",
   "pygments_lexer": "ipython3",
   "version": "3.11.2"
  }
 },
 "nbformat": 4,
 "nbformat_minor": 5
}
