{
 "cells": [
  {
   "cell_type": "markdown",
   "id": "28e5a2fa",
   "metadata": {},
   "source": [
    "# Exercises Set 6"
   ]
  },
  {
   "cell_type": "markdown",
   "id": "a290cc96",
   "metadata": {},
   "source": [
    "## Exercise 1"
   ]
  },
  {
   "cell_type": "markdown",
   "id": "2e7dd075",
   "metadata": {},
   "source": [
    "Suppose $E$ is any positive operator acting on Alice’s qubit. Show that $\\braket{ψ|E ⊗ I|ψ} takes\\,\\,the\\,\\,same\\,\\,value\\,\\,when \\ket{ψ}$ is any of the four Bell states. Suppose some malevolent third party (‘Eve’) intercepts Alice’s qubit on the way to Bob in the superdense coding protocol. Can Eve infer anything about which of the four possible bit strings $00$, $01$, $10$, $11$ Alice is trying to send? If so, how, or if not, why not?\n",
    "\n",
    "([<a href=\"#ref1\">Nielsen10</a>] Exercise 2.66 pp 94)"
   ]
  },
  {
   "cell_type": "markdown",
   "id": "6f27e746",
   "metadata": {},
   "source": [
    "Definimos las cuatro Bell states:\n",
    "\n",
    "$$\n",
    "\\begin{aligned}\n",
    "\\ket{\\Phi^{+}} &= \\tfrac{1}{\\sqrt{2}}(\\ket{00}+\\ket{11}),\\\\\n",
    "\\ket{\\Phi^{-}} &= \\tfrac{1}{\\sqrt{2}}(\\ket{00}-\\ket{11}),\\\\\n",
    "\\ket{\\Psi^{+}} &= \\tfrac{1}{\\sqrt{2}}(\\ket{01}+\\ket{10}),\\\\\n",
    "\\ket{\\Psi^{-}} &= \\tfrac{1}{\\sqrt{2}}(\\ket{01}-\\ket{10}).\n",
    "\\end{aligned}\n",
    "$$\n",
    "\n",
    "Cada Bell state puede escribirse como\n",
    "$$\n",
    "\\ket{\\beta_i} = (U_i \\otimes I)\\ket{\\Phi^+}, \\qquad\n",
    "U_i \\in \\{I, X, Z, iY\\}.\n",
    "$$\n",
    "\n",
    "Sea $E$ un operador positivo que actúa sólo sobre el qubit de Alice. Entonces:\n",
    "\n",
    "$$\n",
    "\\begin{aligned}\n",
    "\\braket{\\beta|E\\otimes I|\\beta}\n",
    "&= \\operatorname{Tr}\\!\\big[(E\\otimes I)\\ket{\\beta}\\bra{\\beta}\\big] \\\\\n",
    "&= \\operatorname{Tr}\\!\\big[(U^\\dagger E U \\otimes I)\\ket{\\Phi^+}\\bra{\\Phi^+}\\big] \\\\\n",
    "&= \\operatorname{Tr}_A\\!\\Big[ U^\\dagger E U \\, \\underbrace{\\operatorname{Tr}_B(\\ket{\\Phi^+}\\bra{\\Phi^+})}_{\\rho_A}\\Big].\n",
    "\\end{aligned}\n",
    "$$\n",
    "\n",
    "La traza parcial sobre $B$ es:\n",
    "$$\n",
    "\\rho_A = \\operatorname{Tr}_B(\\ket{\\Phi^+}\\bra{\\Phi^+})\n",
    "       = \\frac{1}{2}(\\ket{0}\\bra{0} + \\ket{1}\\bra{1})\n",
    "       = \\frac{I}{2}.\n",
    "$$\n",
    "\n",
    "Sustituyendo:\n",
    "\n",
    "$$\n",
    "\\braket{\\beta|E\\otimes I|\\beta}\n",
    "= \\operatorname{Tr}_A\\!\\big(U^\\dagger E U \\tfrac{I}{2}\\big)\n",
    "= \\tfrac{1}{2}\\operatorname{Tr}(U^\\dagger E U)\n",
    "= \\tfrac{1}{2}\\operatorname{Tr}(E),\n",
    "$$\n",
    "\n",
    "donde usamos la invariancia de la traza bajo conjugación unitaria. Por tanto, el valor es **independiente** de la Bell state elegida.\n",
    "\n",
    "\n",
    "### Conclusión\n",
    "\n",
    "- Para cualquier operador positivo $E$ sobre Alice:  \n",
    "  $$\n",
    "  \\langle \\psi | E \\otimes I | \\psi \\rangle = \\tfrac{1}{2}\\operatorname{Tr}(E)\n",
    "  $$\n",
    "  para las cuatro Bell states $\\ket{\\psi}$.\n",
    "\n",
    "- En el protocolo de superdense coding, el qubit que Alice envía a Bob siempre tiene estado reducido  \n",
    "  $\\rho_A = \\tfrac{I}{2}$, independientemente del mensaje ($00,01,10,11$).\n",
    "\n",
    "- **Eve no puede obtener información** sobre los bits enviados midiendo o interceptando solo el qubit de Alice — todas las distribuciones de medida son idénticas.\n"
   ]
  },
  {
   "cell_type": "code",
   "execution_count": 1,
   "id": "512c9162",
   "metadata": {},
   "outputs": [
    {
     "name": "stdout",
     "output_type": "stream",
     "text": [
      "⟨ψ|E⊗I|ψ⟩ para cada Bell state:\n",
      "\n",
      "<Φ+|E⊗I|Φ+> = 3.098740\n",
      "<Φ−|E⊗I|Φ−> = 3.098740\n",
      "<Ψ+|E⊗I|Ψ+> = 3.098740\n",
      "<Ψ−|E⊗I|Ψ−> = 3.098740\n"
     ]
    }
   ],
   "source": [
    "import numpy as np\n",
    "\n",
    "# Definir los estados base de un qubit\n",
    "zero = np.array([1, 0])\n",
    "one  = np.array([0, 1])\n",
    "\n",
    "# Pauli matrices y operador identidad\n",
    "I = np.eye(2)\n",
    "X = np.array([[0, 1],\n",
    "              [1, 0]])\n",
    "Y = np.array([[0, -1j],\n",
    "              [1j, 0]])\n",
    "Z = np.array([[1, 0],\n",
    "              [0, -1]])\n",
    "paulis = {'I': I, 'X': X, 'Y': Y, 'Z': Z}\n",
    "\n",
    "# Bell states\n",
    "phi_plus  = (np.kron(zero, zero) + np.kron(one, one)) / np.sqrt(2)\n",
    "phi_minus = (np.kron(zero, zero) - np.kron(one, one)) / np.sqrt(2)\n",
    "psi_plus  = (np.kron(zero, one) + np.kron(one, zero)) / np.sqrt(2)\n",
    "psi_minus = (np.kron(zero, one) - np.kron(one, zero)) / np.sqrt(2)\n",
    "\n",
    "bell_states = {\n",
    "    'Φ+': phi_plus,\n",
    "    'Φ−': phi_minus,\n",
    "    'Ψ+': psi_plus,\n",
    "    'Ψ−': psi_minus\n",
    "}\n",
    "\n",
    "# Ejemplo de operador positivo E sobre Alice (aleatorio Hermitiano positivo)\n",
    "np.random.seed(42)\n",
    "A = np.random.randn(2, 2) + 1j * np.random.randn(2, 2)\n",
    "E = A.conj().T @ A  # E es positivo semidefinido\n",
    "\n",
    "# Evaluar <ψ| E ⊗ I |ψ> para cada Bell state\n",
    "print(\"⟨ψ|E⊗I|ψ⟩ para cada Bell state:\\n\")\n",
    "for name, psi in bell_states.items():\n",
    "    val = np.vdot(psi, np.kron(E, I) @ psi)\n",
    "    print(f\"<{name}|E⊗I|{name}> = {val.real:.6f}\")\n"
   ]
  },
  {
   "cell_type": "markdown",
   "id": "e776cf4a",
   "metadata": {},
   "source": [
    "## References\n",
    "[Nielsen10] <a id=\"ref1\"></a>  Michael A. Nielsen & Isaac L. Chuang. Quantum Computation and Quantum Information. CAMBRIDGE UNIVERSITY PRESS. 2010"
   ]
  }
 ],
 "metadata": {
  "kernelspec": {
   "display_name": "venv",
   "language": "python",
   "name": "python3"
  },
  "language_info": {
   "codemirror_mode": {
    "name": "ipython",
    "version": 3
   },
   "file_extension": ".py",
   "mimetype": "text/x-python",
   "name": "python",
   "nbconvert_exporter": "python",
   "pygments_lexer": "ipython3",
   "version": "3.11.2"
  }
 },
 "nbformat": 4,
 "nbformat_minor": 5
}
