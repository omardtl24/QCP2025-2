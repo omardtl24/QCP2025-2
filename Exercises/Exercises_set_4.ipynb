{
 "cells": [
  {
   "cell_type": "markdown",
   "id": "2ff6a1c4",
   "metadata": {},
   "source": [
    "# Exercises set 4"
   ]
  },
  {
   "cell_type": "code",
   "execution_count": 1,
   "id": "69c68775",
   "metadata": {},
   "outputs": [
    {
     "name": "stdout",
     "output_type": "stream",
     "text": [
      "Qiskit version: 2.2.1\n"
     ]
    }
   ],
   "source": [
    "import numpy as np\n",
    "import qiskit\n",
    "from qiskit import QuantumCircuit, transpile\n",
    "from qiskit_aer import AerSimulator\n",
    "from qiskit.visualization import plot_histogram\n",
    "print(f'Qiskit version: {qiskit.__version__}')"
   ]
  },
  {
   "cell_type": "markdown",
   "id": "46dbeee0",
   "metadata": {},
   "source": [
    "Exercises from [<a href=\"#ref1\">Asfaw19</a>] 1.4 Single Qubit Gates:"
   ]
  },
  {
   "cell_type": "markdown",
   "id": "3b368b60",
   "metadata": {},
   "source": [
    "## First Set"
   ]
  },
  {
   "cell_type": "markdown",
   "id": "5a327145",
   "metadata": {},
   "source": [
    "### Exercise a\n",
    "\n",
    "Write the $H$-gate as the outer products of vectors $|0⟩$ ,$|1⟩$ , $|+⟩$ and $|−⟩$"
   ]
  },
  {
   "cell_type": "markdown",
   "id": "648a3fca",
   "metadata": {},
   "source": [
    "In first place, we are going to compute all the cross products between the kets\n",
    "\n",
    "#### Computational basis\n",
    "$$\n",
    "\\ket{0}\\bra{0} =\n",
    "\\begin{pmatrix}\n",
    "1 & 0\\\\\n",
    "0 & 0\n",
    "\\end{pmatrix}, \\quad\n",
    "\\ket{0}\\bra{1} =\n",
    "\\begin{pmatrix}\n",
    "0 & 1\\\\\n",
    "0 & 0\n",
    "\\end{pmatrix}\n",
    "$$\n",
    "\n",
    "$$\n",
    "\\ket{1}\\bra{0} =\n",
    "\\begin{pmatrix}\n",
    "0 & 0\\\\\n",
    "1 & 0\n",
    "\\end{pmatrix}, \\quad\n",
    "\\ket{1}\\bra{1} =\n",
    "\\begin{pmatrix}\n",
    "0 & 0\\\\\n",
    "0 & 1\n",
    "\\end{pmatrix}\n",
    "$$\n",
    "\n",
    "\n",
    "\n",
    "#### Plus/minus basis\n",
    "$$\n",
    "\\ket{+}\\bra{+} = \\frac{1}{2}\n",
    "\\begin{pmatrix}\n",
    "1 & 1\\\\\n",
    "1 & 1\n",
    "\\end{pmatrix}, \\quad\n",
    "\\ket{+}\\bra{-} = \\frac{1}{2}\n",
    "\\begin{pmatrix}\n",
    "1 & -1\\\\\n",
    "1 & -1\n",
    "\\end{pmatrix}\n",
    "$$\n",
    "\n",
    "$$\n",
    "\\ket{-}\\bra{+} = \\frac{1}{2}\n",
    "\\begin{pmatrix}\n",
    "1 & 1\\\\\n",
    "-1 & -1\n",
    "\\end{pmatrix}, \\quad\n",
    "\\ket{-}\\bra{-} = \\frac{1}{2}\n",
    "\\begin{pmatrix}\n",
    "1 & -1\\\\\n",
    "-1 & 1\n",
    "\\end{pmatrix}\n",
    "$$\n",
    "\n",
    "\n",
    "#### Cross-basis products\n",
    "$$\n",
    "\\ket{0}\\bra{+} = \\frac{1}{\\sqrt{2}}\n",
    "\\begin{pmatrix}\n",
    "1 & 1\\\\\n",
    "0 & 0\n",
    "\\end{pmatrix}, \\quad\n",
    "\\ket{0}\\bra{-} = \\frac{1}{\\sqrt{2}}\n",
    "\\begin{pmatrix}\n",
    "1 & -1\\\\\n",
    "0 & 0\n",
    "\\end{pmatrix}\n",
    "$$\n",
    "\n",
    "$$\n",
    "\\ket{1}\\bra{+} = \\frac{1}{\\sqrt{2}}\n",
    "\\begin{pmatrix}\n",
    "0 & 0\\\\\n",
    "1 & 1\n",
    "\\end{pmatrix}, \\quad\n",
    "\\ket{1}\\bra{-} = \\frac{1}{\\sqrt{2}}\n",
    "\\begin{pmatrix}\n",
    "0 & 0\\\\\n",
    "1 & -1\n",
    "\\end{pmatrix}\n",
    "$$\n",
    "\n",
    "$$\n",
    "\\ket{+}\\bra{0} = \\frac{1}{\\sqrt{2}}\n",
    "\\begin{pmatrix}\n",
    "1 & 0\\\\\n",
    "1 & 0\n",
    "\\end{pmatrix}, \\quad\n",
    "\\ket{-}\\bra{0} = \\frac{1}{\\sqrt{2}}\n",
    "\\begin{pmatrix}\n",
    "1 & 0\\\\\n",
    "-1 & 0\n",
    "\\end{pmatrix}\n",
    "$$\n",
    "\n",
    "$$\n",
    "\\ket{+}\\bra{1} = \\frac{1}{\\sqrt{2}}\n",
    "\\begin{pmatrix}\n",
    "0 & 1\\\\\n",
    "0 & 1\n",
    "\\end{pmatrix}, \\quad\n",
    "\\ket{-}\\bra{1} = \\frac{1}{\\sqrt{2}}\n",
    "\\begin{pmatrix}\n",
    "0 & 1\\\\\n",
    "0 & -1\n",
    "\\end{pmatrix}\n",
    "$$\n",
    "\n",
    "Here we can see that:\n",
    "\n",
    "$$\\ket{+}\\bra{0} + \\ket{-}\\bra{1}= \n",
    "\\frac{1}{\\sqrt{2}}\n",
    "\\begin{pmatrix}\n",
    "0 & 1\\\\\n",
    "0 & -1\n",
    "\\end{pmatrix} +  \\frac{1}{\\sqrt{2}}\n",
    "\\begin{pmatrix}\n",
    "1 & 0\\\\\n",
    "1 & 0\n",
    "\\end{pmatrix} = \\frac{1}{\\sqrt{2}}\n",
    "\\begin{pmatrix}\n",
    "1 & 1\\\\\n",
    "1 & -1\n",
    "\\end{pmatrix} = H\n",
    "$$\n",
    "\n",
    "Which let us conclude that:\n",
    "\n",
    "$$\\therefore H = \\ket{+}\\bra{0} + \\ket{-}\\bra{1}$$\n"
   ]
  },
  {
   "cell_type": "code",
   "execution_count": 2,
   "id": "8e271ec5",
   "metadata": {},
   "outputs": [],
   "source": [
    "ket_0 = np.array([1,0]).reshape(-1,1)\n",
    "ket_1 = np.array([0,1]).reshape(-1,1)\n",
    "ket_plus = (1/np.sqrt(2)) * (ket_0 + ket_1)\n",
    "ket_minus = (1/np.sqrt(2)) * (ket_0 - ket_1)\n",
    "\n",
    "H = (1/np.sqrt(2)) * np.array([[1, 1], [1, -1]])\n",
    "H_from_outer_products = np.outer(ket_plus, ket_0) + np.outer(ket_minus, ket_1)\n",
    "\n",
    "assert np.allclose(H, H_from_outer_products), \"The H gate does not match the outer product representation.\""
   ]
  },
  {
   "cell_type": "markdown",
   "id": "ab8ecb10",
   "metadata": {},
   "source": [
    "### Exercise b\n",
    "\n",
    "Show that applying the sequence of gates: $HZH$, to any qubit state is equivalent to applying an $X$-gate."
   ]
  },
  {
   "cell_type": "markdown",
   "id": "c33e3b0a",
   "metadata": {},
   "source": [
    "In order to show this, we will use the properties of $H$, $Z$ and $X$ gate:\n",
    "\n",
    "$$X \\ket{1} = \\ket{0} \\quad X \\ket{1} = \\ket{0}$$\n",
    "$$Z \\ket{0} = \\ket{0} \\quad Z \\ket{1} = -\\ket{1}$$\n",
    "$$Z \\ket{+} = \\ket{-} \\quad Z \\ket{-} = \\ket{+}$$\n",
    "$$H \\ket{0} = \\ket{-} \\quad H \\ket{1} = \\ket{+}$$\n",
    "$$H \\ket{-} = \\ket{0} \\quad H \\ket{+} = \\ket{1}$$\n",
    "\n",
    "Now we will plug the computational basis in $H Z H$ and check if $X$ properties hold.\n",
    "\n",
    "$$HZH \\ket{0} = HZ \\ket{-} = H\\ket{+} = \\ket{1} \\Longrightarrow HZH \\ket{0} = \\ket{1}$$\n",
    "$$HZH \\ket{1} = HZ \\ket{+} = H\\ket{-} = \\ket{0} \\Longrightarrow HZH \\ket{1} = \\ket{0}$$\n",
    "\n",
    "As we can see that $HZH$ holds the same properties as $X$ we can conclude that:\n",
    "\n",
    "$$\\therefore HZH = X$$"
   ]
  },
  {
   "cell_type": "code",
   "execution_count": 3,
   "id": "f254c83c",
   "metadata": {},
   "outputs": [],
   "source": [
    "X = np.array([[0, 1], [1, 0]])\n",
    "H = (1/np.sqrt(2)) * np.array([[1, 1], [1, -1]])\n",
    "Z = np.array([[1, 0], [0, -1]])\n",
    "HZH = H @ Z @ H\n",
    "\n",
    "assert np.allclose(HZH, X), \"The sequence HZH does not equal the X gate.\""
   ]
  },
  {
   "cell_type": "markdown",
   "id": "52d64c4f",
   "metadata": {},
   "source": [
    "### Exercise c\n",
    "\n",
    "Find a combination of $X, Z$ and H-gates that is equivalent to a $Y$-gate (ignoring global phase)"
   ]
  },
  {
   "cell_type": "markdown",
   "id": "812825f8",
   "metadata": {},
   "source": [
    "The Pauli matrices are defined as:\n",
    "\n",
    "$$\n",
    "X = \n",
    "\\begin{pmatrix}\n",
    "0 & 1\\\\\n",
    "1 & 0\n",
    "\\end{pmatrix}, \\quad\n",
    "Z = \n",
    "\\begin{pmatrix}\n",
    "1 & 0\\\\\n",
    "0 & -1\n",
    "\\end{pmatrix}, \\quad\n",
    "Y = \n",
    "\\begin{pmatrix}\n",
    "0 & -i\\\\\n",
    "i & 0\n",
    "\\end{pmatrix}.\n",
    "$$\n",
    "\n",
    "Notice that\n",
    "\n",
    "$$\n",
    "Y = iXZ.\n",
    "$$\n",
    "\n",
    "The factor $ i $ is a **global phase**, which has no physical effect on the state of the qubit.  \n",
    "Therefore, ignoring global phase, we can write:\n",
    "\n",
    "$$\n",
    "\\therefore \\; Y \\equiv XZ\n",
    "$$\n"
   ]
  },
  {
   "cell_type": "markdown",
   "id": "92b941e1",
   "metadata": {},
   "source": [
    "## Second Set"
   ]
  },
  {
   "cell_type": "markdown",
   "id": "38127264",
   "metadata": {},
   "source": [
    "### Exercise a\n",
    "\n",
    "If we initialize our qubit in the state $|+⟩$ , what is the probability of measuring it in state $|−⟩$ ?"
   ]
  },
  {
   "cell_type": "markdown",
   "id": "21b81860",
   "metadata": {},
   "source": [
    "If we initialize our qubit in the state $ \\ket{+} $, what is the probability of measuring it in the state $ \\ket{-} $?\n",
    "\n",
    "The states $ \\ket{+} $ and $ \\ket{-} $ are defined as:\n",
    "\n",
    "$$\n",
    "\\ket{+} = \\frac{1}{\\sqrt{2}} (\\ket{0} + \\ket{1}), \\quad\n",
    "\\ket{-} = \\frac{1}{\\sqrt{2}} (\\ket{0} - \\ket{1}).\n",
    "$$\n",
    "\n",
    "The probability of measuring $ \\ket{-} $ given that the qubit is in state $ \\ket{+} $ is:\n",
    "\n",
    "$$\n",
    "P = |\\braket{-|+}|^2.\n",
    "$$\n",
    "\n",
    "Compute the inner product:\n",
    "\n",
    "$$\n",
    "\\braket{-|+} =\n",
    "\\left( \\frac{1}{\\sqrt{2}} (\\bra{0} - \\bra{1}) \\right)\n",
    "\\left( \\frac{1}{\\sqrt{2}} (\\ket{0} + \\ket{1}) \\right)\n",
    "= \\frac{1}{2} (\\braket{0|0} + \\braket{0|1} - \\braket{1|0} - \\braket{1|1})\n",
    "= \\frac{1}{2} (1 + 0 - 0 - 1) = 0.\n",
    "$$\n",
    "\n",
    "Therefore,\n",
    "\n",
    "$$\n",
    "\\therefore P = |0|^2 = 0.\n",
    "$$\n",
    "\n"
   ]
  },
  {
   "cell_type": "markdown",
   "id": "0d1de8d1",
   "metadata": {},
   "source": [
    "### Exercise a\n",
    "\n",
    "Use Qiskit to display the probability of measuring a $|0⟩$ qubit in the states $|+⟩$ and $|−⟩$\n",
    "\n",
    "(Hint: you might want to use `.get_counts()` and `plot_histogram()`).\n"
   ]
  },
  {
   "cell_type": "markdown",
   "id": "28917108",
   "metadata": {},
   "source": [
    "#### Process to measure $\\ket{-}$"
   ]
  },
  {
   "cell_type": "code",
   "execution_count": 4,
   "id": "db01c091",
   "metadata": {},
   "outputs": [
    {
     "data": {
      "image/png": "[encoded data removed]",
      "text/plain": [
       "<Figure size 352.675x200.667 with 1 Axes>"
      ]
     },
     "execution_count": 4,
     "metadata": {},
     "output_type": "execute_result"
    }
   ],
   "source": [
    "qc = QuantumCircuit(1,1)\n",
    "qc.x(0)\n",
    "qc.h(0)\n",
    "qc.measure(0,0)\n",
    "qc.draw('mpl')"
   ]
  },
  {
   "cell_type": "code",
   "execution_count": 5,
   "id": "75233367",
   "metadata": {},
   "outputs": [
    {
     "data": {
      "image/png": "[encoded data removed]",
      "text/plain": [
       "<Figure size 640x480 with 1 Axes>"
      ]
     },
     "execution_count": 5,
     "metadata": {},
     "output_type": "execute_result"
    }
   ],
   "source": [
    "sim = AerSimulator()\n",
    "compiled_qc = transpile(qc, sim)\n",
    "result = sim.run(compiled_qc, shots=100000).result()\n",
    "counts = result.get_counts()\n",
    "plot_histogram(counts, title='Measurement results for $|-⟩$ state')"
   ]
  },
  {
   "cell_type": "markdown",
   "id": "c14837f1",
   "metadata": {},
   "source": [
    "#### Process to measure $\\ket{+}$"
   ]
  },
  {
   "cell_type": "code",
   "execution_count": 6,
   "id": "11774b45",
   "metadata": {},
   "outputs": [
    {
     "data": {
      "image/png": "[encoded data removed]",
      "text/plain": [
       "<Figure size 269.064x200.667 with 1 Axes>"
      ]
     },
     "execution_count": 6,
     "metadata": {},
     "output_type": "execute_result"
    }
   ],
   "source": [
    "qc = QuantumCircuit(1,1)\n",
    "qc.h(0)\n",
    "qc.measure(0,0)\n",
    "qc.draw('mpl')"
   ]
  },
  {
   "cell_type": "code",
   "execution_count": 7,
   "id": "48abf227",
   "metadata": {},
   "outputs": [
    {
     "data": {
      "image/png": "[encoded data removed]",
      "text/plain": [
       "<Figure size 640x480 with 1 Axes>"
      ]
     },
     "execution_count": 7,
     "metadata": {},
     "output_type": "execute_result"
    }
   ],
   "source": [
    "sim = AerSimulator()\n",
    "compiled_qc = transpile(qc, sim)\n",
    "result = sim.run(compiled_qc, shots=100000).result()\n",
    "counts = result.get_counts()\n",
    "plot_histogram(counts, title='Measurement results for $|+⟩$ state')"
   ]
  },
  {
   "cell_type": "markdown",
   "id": "03b36902",
   "metadata": {},
   "source": [
    "We can see here that $\\ket{+}$ and $\\ket{-}$ have each a probability of 50%"
   ]
  },
  {
   "cell_type": "markdown",
   "id": "1e0d3b92",
   "metadata": {},
   "source": [
    "### Exercise c\n",
    "\n",
    "Try to create a function that measures in the $Y $-basis."
   ]
  },
  {
   "cell_type": "markdown",
   "id": "9e27226f",
   "metadata": {},
   "source": [
    "#### Measuring in the Y-basis\n",
    "\n",
    "In Qiskit, measurement is always performed in the computational $ Z $-basis.  \n",
    "To measure in the $ Y $-basis, we apply the transformation $ S^\\dagger H $ **before** measurement:\n",
    "\n",
    "$$\n",
    "| \\psi \\rangle_Y = S^\\dagger H | \\psi \\rangle\n",
    "$$\n",
    "\n",
    "This effectively rotates the measurement basis from $ Z $ to $ Y $.\n"
   ]
  },
  {
   "cell_type": "code",
   "execution_count": 8,
   "id": "47be3da9",
   "metadata": {},
   "outputs": [],
   "source": [
    "def meaure_in_Y(qc):\n",
    "    qc.sdg(0)\n",
    "    qc.h(0)\n",
    "    qc.measure(0,0)\n",
    "    return qc"
   ]
  },
  {
   "cell_type": "markdown",
   "id": "a61e9cd1",
   "metadata": {},
   "source": [
    "##### Measure in the $Y$-Basis the computational basis"
   ]
  },
  {
   "cell_type": "markdown",
   "id": "f16a9eec",
   "metadata": {},
   "source": [
    "\n",
    "$$\n",
    "P(+i|0) = |\\braket{+i|0}|^2.\n",
    "$$\n",
    "\n",
    "Compute:\n",
    "\n",
    "$$\n",
    "\\braket{+i|0} =\n",
    "\\frac{1}{\\sqrt{2}}(\\bra{0} - i\\bra{1}) \\ket{0}\n",
    "= \\frac{1}{\\sqrt{2}}(1 - 0) = \\frac{1}{\\sqrt{2}}.\n",
    "$$\n",
    "\n",
    "Therefore:\n",
    "\n",
    "$$\n",
    "P(+i|0) = \\left|\\frac{1}{\\sqrt{2}}\\right|^2 = \\frac{1}{2}.\n",
    "$$\n",
    "\n",
    "By normalization:\n",
    "\n",
    "$$\n",
    "P(-i|0) = 1 - P(+i|0) = \\frac{1}{2}.\n",
    "$$\n"
   ]
  },
  {
   "cell_type": "code",
   "execution_count": 9,
   "id": "0f7a62d0",
   "metadata": {},
   "outputs": [
    {
     "data": {
      "image/png": "[encoded data removed]",
      "text/plain": [
       "<Figure size 352.675x200.667 with 1 Axes>"
      ]
     },
     "execution_count": 9,
     "metadata": {},
     "output_type": "execute_result"
    }
   ],
   "source": [
    "qc = QuantumCircuit(1,1)\n",
    "qc_y = meaure_in_Y(qc)\n",
    "qc_y.draw('mpl')"
   ]
  },
  {
   "cell_type": "code",
   "execution_count": 10,
   "id": "74197d20",
   "metadata": {},
   "outputs": [
    {
     "data": {
      "image/png": "[encoded data removed]",
      "text/plain": [
       "<Figure size 640x480 with 1 Axes>"
      ]
     },
     "execution_count": 10,
     "metadata": {},
     "output_type": "execute_result"
    }
   ],
   "source": [
    "sim = AerSimulator()\n",
    "compiled_qc = transpile(qc_y, sim)\n",
    "result = sim.run(compiled_qc, shots=100000).result()\n",
    "counts = result.get_counts()\n",
    "plot_histogram(counts, title='Measurement results of $|0⟩$ in the Y-basis')"
   ]
  },
  {
   "cell_type": "markdown",
   "id": "6f762ba5",
   "metadata": {},
   "source": [
    "$$\n",
    "P(+i|1) = |\\braket{+i|1}|^2.\n",
    "$$\n",
    "\n",
    "$$\n",
    "\\braket{+i|1} =\n",
    "\\frac{1}{\\sqrt{2}}(\\bra{0} - i\\bra{1}) \\ket{1}\n",
    "= \\frac{1}{\\sqrt{2}}(0 - i) = -\\frac{i}{\\sqrt{2}},\n",
    "$$\n",
    "\n",
    "so\n",
    "\n",
    "$$\n",
    "P(+i|1) = \\left|-\\frac{i}{\\sqrt{2}}\\right|^2 = \\frac{1}{2}.\n",
    "$$\n",
    "\n",
    "And again,\n",
    "\n",
    "$$\n",
    "P(-i|1) = \\frac{1}{2}.\n",
    "$$"
   ]
  },
  {
   "cell_type": "code",
   "execution_count": 11,
   "id": "e6903d06",
   "metadata": {},
   "outputs": [
    {
     "data": {
      "image/png": "[encoded data removed]",
      "text/plain": [
       "<Figure size 436.286x200.667 with 1 Axes>"
      ]
     },
     "execution_count": 11,
     "metadata": {},
     "output_type": "execute_result"
    }
   ],
   "source": [
    "qc = QuantumCircuit(1,1)\n",
    "qc.x(0)\n",
    "qc_y = meaure_in_Y(qc)\n",
    "qc_y.draw('mpl')"
   ]
  },
  {
   "cell_type": "code",
   "execution_count": 12,
   "id": "09e367b9",
   "metadata": {},
   "outputs": [
    {
     "data": {
      "image/png": "[encoded data removed]",
      "text/plain": [
       "<Figure size 640x480 with 1 Axes>"
      ]
     },
     "execution_count": 12,
     "metadata": {},
     "output_type": "execute_result"
    }
   ],
   "source": [
    "sim = AerSimulator()\n",
    "compiled_qc = transpile(qc_y, sim)\n",
    "result = sim.run(compiled_qc, shots=100000).result()\n",
    "counts = result.get_counts()\n",
    "plot_histogram(counts, title='Measurement results of $|0⟩$ in the Y-basis')"
   ]
  },
  {
   "cell_type": "markdown",
   "id": "5ab3ce6b",
   "metadata": {},
   "source": [
    "##### Measure $ \\ket{+} $ and $ \\ket{-} $ in the $ Y $-basis"
   ]
  },
  {
   "cell_type": "markdown",
   "id": "bffdcae3",
   "metadata": {},
   "source": [
    "Recall the definitions:\n",
    "\n",
    "$$\n",
    "\\ket{+} = \\frac{1}{\\sqrt{2}}(\\ket{0} + \\ket{1}), \\quad\n",
    "\\ket{-} = \\frac{1}{\\sqrt{2}}(\\ket{0} - \\ket{1}).\n",
    "$$\n",
    "\n",
    "and the $ Y $-basis states are:\n",
    "\n",
    "$$\n",
    "\\ket{+i} = \\frac{1}{\\sqrt{2}}(\\ket{0} + i\\ket{1}), \\quad\n",
    "\\ket{-i} = \\frac{1}{\\sqrt{2}}(\\ket{0} - i\\ket{1}).\n",
    "$$\n",
    "\n",
    "We now compute $ P(+i|+) = |\\braket{+i|+}|^2 $.\n"
   ]
  },
  {
   "cell_type": "markdown",
   "id": "ff135639",
   "metadata": {},
   "source": [
    "**Case 1: $ \\ket{+} $ measured in $ Y $-basis**\n",
    "\n",
    "Compute the inner product:\n",
    "\n",
    "$$\n",
    "\\braket{+i|+} =\n",
    "\\left(\\frac{1}{\\sqrt{2}}(\\bra{0} - i\\bra{1})\\right)\n",
    "\\left(\\frac{1}{\\sqrt{2}}(\\ket{0} + \\ket{1})\\right)\n",
    "= \\frac{1}{2}(\\braket{0|0} + \\braket{0|1} - i\\braket{1|0} - i\\braket{1|1})\n",
    "= \\frac{1}{2}(1 - i).\n",
    "$$\n",
    "\n",
    "Therefore,\n",
    "\n",
    "$$\n",
    "P(+i|+) = \\left|\\frac{1 - i}{2}\\right|^2\n",
    "= \\frac{1}{4}(|1 - i|^2)\n",
    "= \\frac{1}{4}(1 + 1)\n",
    "= \\frac{1}{2}.\n",
    "$$\n",
    "\n",
    "Similarly,\n",
    "\n",
    "$$\n",
    "P(-i|+) = 1 - P(+i|+) = \\frac{1}{2}.\n",
    "$$\n",
    "\n",
    "So the measurement is **equally probable** in both outcomes."
   ]
  },
  {
   "cell_type": "code",
   "execution_count": 13,
   "id": "26b23921",
   "metadata": {},
   "outputs": [
    {
     "data": {
      "image/png": "[encoded data removed]",
      "text/plain": [
       "<Figure size 436.286x200.667 with 1 Axes>"
      ]
     },
     "execution_count": 13,
     "metadata": {},
     "output_type": "execute_result"
    }
   ],
   "source": [
    "qc = QuantumCircuit(1,1)\n",
    "qc.h(0)\n",
    "qc_y = meaure_in_Y(qc)\n",
    "qc_y.draw('mpl')"
   ]
  },
  {
   "cell_type": "code",
   "execution_count": 14,
   "id": "962897e2",
   "metadata": {},
   "outputs": [
    {
     "data": {
      "image/png": "[encoded data removed]",
      "text/plain": [
       "<Figure size 640x480 with 1 Axes>"
      ]
     },
     "execution_count": 14,
     "metadata": {},
     "output_type": "execute_result"
    }
   ],
   "source": [
    "sim = AerSimulator()\n",
    "compiled_qc = transpile(qc_y, sim)\n",
    "result = sim.run(compiled_qc, shots=100000).result()\n",
    "counts = result.get_counts()\n",
    "plot_histogram(counts, title='Measurement results of $|+⟩$ in the Y-basis')"
   ]
  },
  {
   "cell_type": "markdown",
   "id": "974e63b2",
   "metadata": {},
   "source": [
    "**Case 2: $ \\ket{-} $ measured in $ Y $-basis**\n",
    "\n",
    "Compute:\n",
    "\n",
    "$$\n",
    "\\braket{+i|-} =\n",
    "\\left(\\frac{1}{\\sqrt{2}}(\\bra{0} - i\\bra{1})\\right)\n",
    "\\left(\\frac{1}{\\sqrt{2}}(\\ket{0} - \\ket{1})\\right)\n",
    "= \\frac{1}{2}(\\braket{0|0} - \\braket{0|1} - i\\braket{1|0} + i\\braket{1|1})\n",
    "= \\frac{1}{2}(1 + i).\n",
    "$$\n",
    "\n",
    "Hence,\n",
    "\n",
    "$$\n",
    "P(+i|-) = \\left|\\frac{1 + i}{2}\\right|^2 = \\frac{1}{2}.\n",
    "$$\n",
    "\n",
    "and\n",
    "\n",
    "$$\n",
    "P(-i|-) = \\frac{1}{2}.\n",
    "$$"
   ]
  },
  {
   "cell_type": "code",
   "execution_count": 15,
   "id": "819c7c64",
   "metadata": {},
   "outputs": [
    {
     "data": {
      "image/png": "[encoded data removed]",
      "text/plain": [
       "<Figure size 640x480 with 1 Axes>"
      ]
     },
     "execution_count": 15,
     "metadata": {},
     "output_type": "execute_result"
    }
   ],
   "source": [
    "qc = QuantumCircuit(1,1)\n",
    "qc.x(0)\n",
    "qc.h(0)\n",
    "qc_y = meaure_in_Y(qc)\n",
    "qc_y.draw('mpl')\n",
    "sim = AerSimulator()\n",
    "compiled_qc = transpile(qc_y, sim)\n",
    "result = sim.run(compiled_qc, shots=100000).result()\n",
    "counts = result.get_counts()\n",
    "plot_histogram(counts, title='Measurement results of $|-⟩$ in the Y-basis')"
   ]
  },
  {
   "cell_type": "markdown",
   "id": "0ddef333",
   "metadata": {},
   "source": [
    "## References\n",
    "[Asfaw19] <a id=\"ref1\"></a>  Abraham Asfaw et al., Learn Quantum Computation Using Qiskit. Qiskit Development Team. 2019"
   ]
  }
 ],
 "metadata": {
  "kernelspec": {
   "display_name": "venv",
   "language": "python",
   "name": "python3"
  },
  "language_info": {
   "codemirror_mode": {
    "name": "ipython",
    "version": 3
   },
   "file_extension": ".py",
   "mimetype": "text/x-python",
   "name": "python",
   "nbconvert_exporter": "python",
   "pygments_lexer": "ipython3",
   "version": "3.11.2"
  }
 },
 "nbformat": 4,
 "nbformat_minor": 5
}
