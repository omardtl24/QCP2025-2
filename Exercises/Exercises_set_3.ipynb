{
 "cells": [
  {
   "cell_type": "code",
   "execution_count": 2,
   "id": "db611253",
   "metadata": {},
   "outputs": [],
   "source": [
    "import numpy as np"
   ]
  },
  {
   "cell_type": "markdown",
   "id": "177d956c",
   "metadata": {},
   "source": [
    "## Exercise 1"
   ]
  },
  {
   "cell_type": "markdown",
   "id": "2597871a",
   "metadata": {},
   "source": [
    "Show that the average value of the observable $X_1 Z_2$ for a two qubit system measured in the state $( \\ket{00}  + \\ket{11} )/\\sqrt{2}$ is zero.\n",
    "\n",
    " ([<a href=\"#ref1\">Nielsen10</a>] Exercise 2.66 pp 94)"
   ]
  },
  {
   "cell_type": "markdown",
   "id": "4b953d04",
   "metadata": {},
   "source": [
    "## Exercise 2"
   ]
  },
  {
   "cell_type": "markdown",
   "id": "363317ed",
   "metadata": {},
   "source": [
    "Prove that $\\ket{\\psi} = \\ket{a}\\ket{b}$ for all single qubit states $\\ket{a}$ and $\\ket{b}$\n",
    "\n",
    "([<a href=\"#ref1\">Nielsen10</a>] Exercise 2.68 pp 96)"
   ]
  },
  {
   "cell_type": "markdown",
   "id": "990116dc",
   "metadata": {},
   "source": [
    "## Exercise 3"
   ]
  },
  {
   "cell_type": "markdown",
   "id": "38e2ff5c",
   "metadata": {},
   "source": [
    "Verify that the Bell basis forms an orthonormal basis for the two qubit state space.\n",
    "\n",
    "([<a href=\"#ref1\">Nielsen10</a>] Exercise 2.69 pp 98)"
   ]
  },
  {
   "cell_type": "markdown",
   "id": "4949c0eb",
   "metadata": {},
   "source": [
    "The Bell basis or Bell states are the following:\n",
    "\n",
    "$$\n",
    "\\begin{align*}\n",
    "    00_B: \\ket{\\psi} \\longrightarrow & \\dfrac{\\ket{00} + \\ket{11}}{\\sqrt{2}} \\\\\n",
    "    01_B: \\ket{\\psi} \\longrightarrow & \\dfrac{\\ket{00} - \\ket{11}}{\\sqrt{2}} \\\\\n",
    "    10_B: \\ket{\\psi} \\longrightarrow & \\dfrac{\\ket{10} + \\ket{01}}{\\sqrt{2}} \\\\\n",
    "    11_B: \\ket{\\psi} \\longrightarrow & \\dfrac{\\ket{01} - \\ket{10}}{\\sqrt{2}}\n",
    "\\end{align*}\n",
    "$$\n",
    "\n",
    "In order to proof that it is an orthonormal basis, is showing that:\n",
    "\n",
    "$$\\forall_{x, y \\in \\{0,1\\}^2} \\left\\{\n",
    "    \\begin{align*}\n",
    "    \\braket{x | y} = 1 \\quad \\text{if } x=y \\\\\n",
    "    \\braket{x | y} = 0 \\quad \\text{if } x\\neq y\n",
    "    \\end{align*}\n",
    "    \\right . \\quad \\Longleftrightarrow \\quad M = [00_B \\, 01_B \\, 10_B \\, 11_B] \\rightarrow M M^{\\dagger} = I$$\n",
    "\n",
    "There are 10 inner products to compute (4 diagonal + 6 off-diagonal).\n",
    "\n",
    "\n",
    "### 1. Diagonal terms\n",
    "\n",
    "#### (a) $\\braket{00_B|00_B}$\n",
    "$$\n",
    "\\begin{aligned}\n",
    "\\braket{00_B|00_B} &= \\left(\\dfrac{\\bra{00} + \\bra{11}}{\\sqrt{2}}\\right)\n",
    "\\left(\\dfrac{\\ket{00} + \\ket{11}}{\\sqrt{2}}\\right) \\\\[6pt]\n",
    "&= \\dfrac{\\braket{00|00} + \\braket{00|11} + \\braket{11|00} + \\braket{11|11}}{2} \\\\[6pt]\n",
    "&= \\dfrac{1 + 0 + 0 + 1}{2} = 1\n",
    "\\end{aligned}\n",
    "$$\n",
    "\n",
    "#### (b) $\\braket{01_B|01_B}$\n",
    "$$\n",
    "\\begin{aligned}\n",
    "\\braket{01_B|01_B} &= \\left(\\dfrac{\\bra{00} - \\bra{11}}{\\sqrt{2}}\\right)\n",
    "\\left(\\dfrac{\\ket{00} - \\ket{11}}{\\sqrt{2}}\\right) \\\\[6pt]\n",
    "&= \\dfrac{\\braket{00|00} - \\braket{00|11} - \\braket{11|00} + \\braket{11|11}}{2} \\\\[6pt]\n",
    "&= \\dfrac{1 - 0 - 0 + 1}{2} = 1\n",
    "\\end{aligned}\n",
    "$$\n",
    "\n",
    "#### (c) $\\braket{10_B|10_B}$\n",
    "$$\n",
    "\\begin{aligned}\n",
    "\\braket{10_B|10_B} &= \\left(\\dfrac{\\bra{10} + \\bra{01}}{\\sqrt{2}}\\right)\n",
    "\\left(\\dfrac{\\ket{10} + \\ket{01}}{\\sqrt{2}}\\right) \\\\[6pt]\n",
    "&= \\dfrac{\\braket{10|10} + \\braket{10|01} + \\braket{01|10} + \\braket{01|01}}{2} \\\\[6pt]\n",
    "&= \\dfrac{1 + 0 + 0 + 1}{2} = 1\n",
    "\\end{aligned}\n",
    "$$\n",
    "\n",
    "#### (d) $\\braket{11_B|11_B}$\n",
    "$$\n",
    "\\begin{aligned}\n",
    "\\braket{11_B|11_B} &= \\left(\\dfrac{\\bra{01} - \\bra{10}}{\\sqrt{2}}\\right)\n",
    "\\left(\\dfrac{\\ket{01} - \\ket{10}}{\\sqrt{2}}\\right) \\\\[6pt]\n",
    "&= \\dfrac{\\braket{01|01} - \\braket{01|10} - \\braket{10|01} + \\braket{10|10}}{2} \\\\[6pt]\n",
    "&= \\dfrac{1 - 0 - 0 + 1}{2} = 1\n",
    "\\end{aligned}\n",
    "$$\n",
    "\n",
    "\n",
    "### 2. Off-diagonal terms\n",
    "\n",
    "#### (a) $\\braket{00_B|01_B}$\n",
    "$$\n",
    "\\begin{aligned}\n",
    "\\braket{00_B|01_B} &= \\left(\\dfrac{\\bra{00} + \\bra{11}}{\\sqrt{2}}\\right)\n",
    "\\left(\\dfrac{\\ket{00} - \\ket{11}}{\\sqrt{2}}\\right) \\\\[6pt]\n",
    "&= \\dfrac{\\braket{00|00} - \\braket{00|11} + \\braket{11|00} - \\braket{11|11}}{2} \\\\[6pt]\n",
    "&= \\dfrac{1 - 0 + 0 - 1}{2} = 0\n",
    "\\end{aligned}\n",
    "$$\n",
    "\n",
    "#### (b) $\\braket{00_B|10_B}$\n",
    "$$\n",
    "\\begin{aligned}\n",
    "\\braket{00_B|10_B} &= \\left(\\dfrac{\\bra{00} + \\bra{11}}{\\sqrt{2}}\\right)\n",
    "\\left(\\dfrac{\\ket{10} + \\ket{01}}{\\sqrt{2}}\\right) \\\\[6pt]\n",
    "&= \\dfrac{\\braket{00|10} + \\braket{00|01} + \\braket{11|10} + \\braket{11|01}}{2} \\\\[6pt]\n",
    "&= 0\n",
    "\\end{aligned}\n",
    "$$\n",
    "\n",
    "#### (c) $\\braket{00_B|11_B}$\n",
    "$$\n",
    "\\begin{aligned}\n",
    "\\braket{00_B|11_B} &= \\left(\\dfrac{\\bra{00} + \\bra{11}}{\\sqrt{2}}\\right)\n",
    "\\left(\\dfrac{\\ket{01} - \\ket{10}}{\\sqrt{2}}\\right) \\\\[6pt]\n",
    "&= \\dfrac{\\braket{00|01} - \\braket{00|10} + \\braket{11|01} - \\braket{11|10}}{2} \\\\[6pt]\n",
    "&= 0\n",
    "\\end{aligned}\n",
    "$$\n",
    "\n",
    "#### (d) $\\braket{01_B|10_B}$\n",
    "$$\n",
    "\\begin{aligned}\n",
    "\\braket{01_B|10_B} &= \\left(\\dfrac{\\bra{00} - \\bra{11}}{\\sqrt{2}}\\right)\n",
    "\\left(\\dfrac{\\ket{10} + \\ket{01}}{\\sqrt{2}}\\right) \\\\[6pt]\n",
    "&= \\dfrac{\\braket{00|10} + \\braket{00|01} - \\braket{11|10} - \\braket{11|01}}{2} \\\\[6pt]\n",
    "&= 0\n",
    "\\end{aligned}\n",
    "$$\n",
    "\n",
    "#### (e) $\\braket{01_B|11_B}$\n",
    "$$\n",
    "\\begin{aligned}\n",
    "\\braket{01_B|11_B} &= \\left(\\dfrac{\\bra{00} - \\bra{11}}{\\sqrt{2}}\\right)\n",
    "\\left(\\dfrac{\\ket{01} - \\ket{10}}{\\sqrt{2}}\\right) \\\\[6pt]\n",
    "&= \\dfrac{\\braket{00|01} - \\braket{00|10} - \\braket{11|01} + \\braket{11|10}}{2} \\\\[6pt]\n",
    "&= 0\n",
    "\\end{aligned}\n",
    "$$\n",
    "\n",
    "#### (f) $\\braket{10_B|11_B}$\n",
    "$$\n",
    "\\begin{aligned}\n",
    "\\braket{10_B|11_B} &= \\left(\\dfrac{\\bra{10} + \\bra{01}}{\\sqrt{2}}\\right)\n",
    "\\left(\\dfrac{\\ket{01} - \\ket{10}}{\\sqrt{2}}\\right) \\\\[6pt]\n",
    "&= \\dfrac{\\braket{10|01} - \\braket{10|10} + \\braket{01|01} - \\braket{01|10}}{2} \\\\[6pt]\n",
    "&= \\dfrac{0 - 1 + 1 - 0}{2} = 0\n",
    "\\end{aligned}\n",
    "$$\n"
   ]
  },
  {
   "cell_type": "code",
   "execution_count": 11,
   "id": "a6321eec",
   "metadata": {},
   "outputs": [
    {
     "name": "stdout",
     "output_type": "stream",
     "text": [
      "The Bell basis forms an orthonormal basis for the two qubit state space\n"
     ]
    }
   ],
   "source": [
    "k_0 = np.array([1,0]).reshape(-1,1)\n",
    "k_1 = np.array([0,1]).reshape(-1,1)\n",
    "\n",
    "k_00 = np.kron(k_0,k_0)\n",
    "k_01 = np.kron(k_0,k_1)\n",
    "k_10 = np.kron(k_1,k_0)\n",
    "k_11 = np.kron(k_1,k_1)\n",
    "\n",
    "bell_00 = (k_00 + k_11)/np.sqrt(2)\n",
    "bell_01 = (k_01 + k_10)/np.sqrt(2)\n",
    "bell_10 = (k_00 - k_11)/np.sqrt(2)\n",
    "bell_11 = (k_01 - k_10)/np.sqrt(2)\n",
    "\n",
    "M = np.column_stack((bell_00, bell_01, bell_10, bell_11))\n",
    "is_orthonormal = lambda x: np.allclose(np.eye(x.shape[1]), x.T.conj() @ x)\n",
    "\n",
    "assert is_orthonormal(M)\n",
    "print(f'The Bell basis forms an orthonormal basis for the two qubit state space')"
   ]
  },
  {
   "cell_type": "markdown",
   "id": "e339e531",
   "metadata": {},
   "source": [
    "## References\n",
    "[Nielsen10] <a id=\"ref1\"></a>  Michael A. Nielsen & Isaac L. Chuang. Quantum Computation and Quantum Information. CAMBRIDGE UNIVERSITY PRESS. 2010"
   ]
  }
 ],
 "metadata": {
  "kernelspec": {
   "display_name": "venv (3.12.3)",
   "language": "python",
   "name": "python3"
  },
  "language_info": {
   "codemirror_mode": {
    "name": "ipython",
    "version": 3
   },
   "file_extension": ".py",
   "mimetype": "text/x-python",
   "name": "python",
   "nbconvert_exporter": "python",
   "pygments_lexer": "ipython3",
   "version": "3.12.3"
  }
 },
 "nbformat": 4,
 "nbformat_minor": 5
}
